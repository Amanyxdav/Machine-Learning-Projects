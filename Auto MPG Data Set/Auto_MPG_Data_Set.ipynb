{
  "nbformat": 4,
  "nbformat_minor": 0,
  "metadata": {
    "colab": {
      "name": "Auto MPG Data Set.ipynb",
      "provenance": [],
      "collapsed_sections": []
    },
    "kernelspec": {
      "name": "python3",
      "display_name": "Python 3"
    },
    "language_info": {
      "name": "python"
    }
  },
  "cells": [
    {
      "cell_type": "markdown",
      "metadata": {
        "id": "cJcR-AQN739P"
      },
      "source": [
        "#Auto MPG Data Set "
      ]
    },
    {
      "cell_type": "code",
      "metadata": {
        "colab": {
          "base_uri": "https://localhost:8080/"
        },
        "id": "CvZSO-pO7vwS",
        "outputId": "c631d141-859a-4607-b020-e4ac3be39b8e"
      },
      "source": [
        "from __future__ import absolute_import, division, print_function\n",
        "\n",
        "import pathlib\n",
        "\n",
        "import matplotlib.pyplot as plt\n",
        "import pandas as pd\n",
        "import seaborn as sns\n",
        "\n",
        "import tensorflow as tf\n",
        "from tensorflow import keras\n",
        "from tensorflow.keras import layers\n",
        "\n",
        "#print(tf.__version__)\n",
        "\n",
        "dataset_path = keras.utils.get_file(\"auto-mpg.data\", \n",
        "                                    \"https://archive.ics.uci.edu/ml/machine-learning-databases/auto-mpg/auto-mpg.data\")\n",
        "\n",
        "column_names = ['MPG','Cylinders','Displacement','Horsepower','Weight',\n",
        "                'Acceleration', 'Model Year', 'Origin']\n",
        "\n",
        "raw_dataset = pd.read_csv(dataset_path,\n",
        "                          names=column_names,\n",
        "                          na_values=\"?\",\n",
        "                          comment=\"\\t\",\n",
        "                          sep=\" \",\n",
        "                          skipinitialspace=True)\n",
        "\n",
        "dataset = raw_dataset.copy()\n",
        "print(dataset.tail())"
      ],
      "execution_count": 1,
      "outputs": [
        {
          "output_type": "stream",
          "name": "stdout",
          "text": [
            "Downloading data from https://archive.ics.uci.edu/ml/machine-learning-databases/auto-mpg/auto-mpg.data\n",
            "32768/30286 [================================] - 0s 0us/step\n",
            "40960/30286 [========================================] - 0s 0us/step\n",
            "      MPG  Cylinders  Displacement  ...  Acceleration  Model Year  Origin\n",
            "393  27.0          4         140.0  ...          15.6          82       1\n",
            "394  44.0          4          97.0  ...          24.6          82       2\n",
            "395  32.0          4         135.0  ...          11.6          82       1\n",
            "396  28.0          4         120.0  ...          18.6          82       1\n",
            "397  31.0          4         119.0  ...          19.4          82       1\n",
            "\n",
            "[5 rows x 8 columns]\n"
          ]
        }
      ]
    }
  ]
}